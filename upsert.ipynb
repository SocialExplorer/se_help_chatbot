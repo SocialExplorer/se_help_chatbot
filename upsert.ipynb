{
 "cells": [
  {
   "cell_type": "code",
   "execution_count": 13,
   "metadata": {},
   "outputs": [],
   "source": [
    "import pandas as pd\n",
    "import pinecone\n",
    "from sentence_transformers import SentenceTransformer\n",
    "from dotenv import load_dotenv\n",
    "import os\n",
    "from pinecone import Pinecone, ServerlessSpec\n",
    "\n",
    "# Initialize Pinecone\n",
    "pc = Pinecone(\n",
    "    api_key=os.environ.get(\"PINECONE_API_KEY\")\n",
    ")\n",
    "\n",
    "# Create or connect to an index\n",
    "index_name = 'acs-tables'  # Choose an index name\n",
    "if index_name not in pc.list_indexes().names():\n",
    "    pc.create_index(\n",
    "        name=index_name, \n",
    "        dimension=384, \n",
    "        metric='cosine',\n",
    "        spec=ServerlessSpec(\n",
    "            cloud='aws',\n",
    "            region='us-east-1'\n",
    "        )\n",
    "    )\n",
    "index = pc.Index(index_name)"
   ]
  },
  {
   "cell_type": "code",
   "execution_count": 14,
   "metadata": {},
   "outputs": [],
   "source": [
    "df = pd.read_csv('ACS_2022_tables_mini.csv')"
   ]
  },
  {
   "cell_type": "code",
   "execution_count": 15,
   "metadata": {},
   "outputs": [],
   "source": [
    "# Ensure columns are of type string\n",
    "df[['name', 'title', 'universe']] = df[['name', 'title', 'universe']].astype(str)\n",
    "\n",
    "# Combine columns into a 'text' column\n",
    "df['text'] = df[['name', 'title', 'universe']].agg(' '.join, axis=1)\n"
   ]
  },
  {
   "cell_type": "code",
   "execution_count": 16,
   "metadata": {},
   "outputs": [],
   "source": [
    "# Load the pre-trained model\n",
    "model = SentenceTransformer('all-MiniLM-L6-v2')\n",
    "\n",
    "# Generate embeddings for the 'text' column\n",
    "df['embedding'] = df['text'].apply(lambda x: model.encode(x).tolist())\n"
   ]
  },
  {
   "cell_type": "code",
   "execution_count": 18,
   "metadata": {},
   "outputs": [],
   "source": [
    "data_to_upsert = [\n",
    "    (\n",
    "        str(idx),  # Use index as the unique ID\n",
    "        row['embedding'],\n",
    "        {\n",
    "            'name': row['name'],\n",
    "            'title': row['title'],\n",
    "            'universe': row['universe'],\n",
    "            'text': row['text']\n",
    "        }\n",
    "    )\n",
    "    for idx, row in df.iterrows()\n",
    "]\n"
   ]
  },
  {
   "cell_type": "code",
   "execution_count": 19,
   "metadata": {},
   "outputs": [
    {
     "data": {
      "text/plain": [
       "{'upserted_count': 248}"
      ]
     },
     "execution_count": 19,
     "metadata": {},
     "output_type": "execute_result"
    }
   ],
   "source": [
    "# Upsert data into Pinecone\n",
    "index.upsert(vectors=data_to_upsert)\n"
   ]
  },
  {
   "cell_type": "code",
   "execution_count": null,
   "metadata": {},
   "outputs": [
    {
     "data": {
      "text/html": [
       "<div>\n",
       "<style scoped>\n",
       "    .dataframe tbody tr th:only-of-type {\n",
       "        vertical-align: middle;\n",
       "    }\n",
       "\n",
       "    .dataframe tbody tr th {\n",
       "        vertical-align: top;\n",
       "    }\n",
       "\n",
       "    .dataframe thead th {\n",
       "        text-align: right;\n",
       "    }\n",
       "</style>\n",
       "<table border=\"1\" class=\"dataframe\">\n",
       "  <thead>\n",
       "    <tr style=\"text-align: right;\">\n",
       "      <th></th>\n",
       "      <th>name</th>\n",
       "      <th>title</th>\n",
       "      <th>universe</th>\n",
       "      <th>text</th>\n",
       "      <th>embedding</th>\n",
       "    </tr>\n",
       "  </thead>\n",
       "  <tbody>\n",
       "    <tr>\n",
       "      <th>0</th>\n",
       "      <td>G001</td>\n",
       "      <td>Geography Identifiers</td>\n",
       "      <td>none</td>\n",
       "      <td>G001 Geography Identifiers none</td>\n",
       "      <td>[0.02329733781516552, -0.01526133343577385, 0....</td>\n",
       "    </tr>\n",
       "    <tr>\n",
       "      <th>1</th>\n",
       "      <td>A00001</td>\n",
       "      <td>Total Population</td>\n",
       "      <td>Total Population</td>\n",
       "      <td>A00001 Total Population Total Population</td>\n",
       "      <td>[0.04868048056960106, -0.04043744131922722, -0...</td>\n",
       "    </tr>\n",
       "    <tr>\n",
       "      <th>2</th>\n",
       "      <td>A00002</td>\n",
       "      <td>Population Density (Per Sq. Mile)</td>\n",
       "      <td>Total Population</td>\n",
       "      <td>A00002 Population Density (Per Sq. Mile) Total...</td>\n",
       "      <td>[0.1295415163040161, -0.08986365795135498, -0....</td>\n",
       "    </tr>\n",
       "    <tr>\n",
       "      <th>3</th>\n",
       "      <td>A00003</td>\n",
       "      <td>Land Area (Sq. Miles)</td>\n",
       "      <td>Area Total</td>\n",
       "      <td>A00003 Land Area (Sq. Miles) Area Total</td>\n",
       "      <td>[0.13329695165157318, -0.05397973209619522, -0...</td>\n",
       "    </tr>\n",
       "    <tr>\n",
       "      <th>4</th>\n",
       "      <td>A02001</td>\n",
       "      <td>Sex</td>\n",
       "      <td>Total Population</td>\n",
       "      <td>A02001 Sex Total Population</td>\n",
       "      <td>[0.022333547472953796, -0.021919462829828262, ...</td>\n",
       "    </tr>\n",
       "  </tbody>\n",
       "</table>\n",
       "</div>"
      ],
      "text/plain": [
       "     name                              title          universe  \\\n",
       "0    G001              Geography Identifiers              none   \n",
       "1  A00001                   Total Population  Total Population   \n",
       "2  A00002  Population Density (Per Sq. Mile)  Total Population   \n",
       "3  A00003              Land Area (Sq. Miles)        Area Total   \n",
       "4  A02001                                Sex  Total Population   \n",
       "\n",
       "                                                text  \\\n",
       "0                    G001 Geography Identifiers none   \n",
       "1           A00001 Total Population Total Population   \n",
       "2  A00002 Population Density (Per Sq. Mile) Total...   \n",
       "3            A00003 Land Area (Sq. Miles) Area Total   \n",
       "4                        A02001 Sex Total Population   \n",
       "\n",
       "                                           embedding  \n",
       "0  [0.02329733781516552, -0.01526133343577385, 0....  \n",
       "1  [0.04868048056960106, -0.04043744131922722, -0...  \n",
       "2  [0.1295415163040161, -0.08986365795135498, -0....  \n",
       "3  [0.13329695165157318, -0.05397973209619522, -0...  \n",
       "4  [0.022333547472953796, -0.021919462829828262, ...  "
      ]
     },
     "execution_count": 12,
     "metadata": {},
     "output_type": "execute_result"
    }
   ],
   "source": [
    "df.head()"
   ]
  },
  {
   "cell_type": "code",
   "execution_count": null,
   "metadata": {},
   "outputs": [],
   "source": []
  }
 ],
 "metadata": {
  "kernelspec": {
   "display_name": "venv",
   "language": "python",
   "name": "python3"
  },
  "language_info": {
   "codemirror_mode": {
    "name": "ipython",
    "version": 3
   },
   "file_extension": ".py",
   "mimetype": "text/x-python",
   "name": "python",
   "nbconvert_exporter": "python",
   "pygments_lexer": "ipython3",
   "version": "3.12.7"
  }
 },
 "nbformat": 4,
 "nbformat_minor": 2
}
